{
 "cells": [
  {
   "cell_type": "code",
   "execution_count": 7,
   "id": "2390af64",
   "metadata": {},
   "outputs": [],
   "source": [
    "import tensorflow as tf\n",
    "import numpy as np\n",
    "from PIL import Image\n",
    "import glob\n",
    "import os\n",
    "import tensorflow as tf\n",
    "from tensorflow import keras\n",
    "import matplotlib.pyplot as plt"
   ]
  },
  {
   "cell_type": "markdown",
   "id": "4c618e47",
   "metadata": {},
   "source": [
    "## 더 많은 데이터로 학습하기"
   ]
  },
  {
   "cell_type": "code",
   "execution_count": 12,
   "id": "beaedb1f",
   "metadata": {},
   "outputs": [],
   "source": [
    "def resize_images(img_path):\n",
    "    images=glob.glob(img_path + \"*.jpg\")\n",
    "    \n",
    "    print(len(images), \"images to be resized.\")\n",
    "    \n",
    "    target_size=(96, 96)\n",
    "    for img in images:\n",
    "        old_img = Image.open(img)\n",
    "        new_img = old_img.resize(target_size, Image.ANTIALIAS)\n",
    "        new_img.save(img, \"JPEG\")\n",
    "        \n",
    "    print(len(images), \" images resized.\")"
   ]
  },
  {
   "cell_type": "code",
   "execution_count": 13,
   "id": "dfa09d0b",
   "metadata": {},
   "outputs": [],
   "source": [
    "import numpy as np\n",
    "\n",
    "def load_data(img_path, number_of_data=300):  # 가위바위보 이미지 개수 총합에 주의하세요.\n",
    "    # 가위 : 0, 바위 : 1, 보 : 2\n",
    "    img_size=96\n",
    "    color=3\n",
    "    #이미지 데이터와 라벨(가위 : 0, 바위 : 1, 보 : 2) 데이터를 담을 행렬(matrix) 영역을 생성합니다.\n",
    "    imgs=np.zeros(number_of_data*img_size*img_size*color,dtype=np.int32).reshape(number_of_data,img_size,img_size,color)\n",
    "    labels=np.zeros(number_of_data,dtype=np.int32)\n",
    "\n",
    "    idx=0\n",
    "    for file in glob.iglob(img_path+'/scissor/*.jpg'):\n",
    "        img = np.array(Image.open(file),dtype=np.int32)\n",
    "        imgs[idx,:,:,:]=img    # 데이터 영역에 이미지 행렬을 복사\n",
    "        labels[idx]=0   # 가위 : 0\n",
    "        idx=idx+1\n",
    "\n",
    "    for file in glob.iglob(img_path+'/rock/*.jpg'):\n",
    "        img = np.array(Image.open(file),dtype=np.int32)\n",
    "        imgs[idx,:,:,:]=img    # 데이터 영역에 이미지 행렬을 복사\n",
    "        labels[idx]=1   # 바위 : 1\n",
    "        idx=idx+1  \n",
    "    \n",
    "    for file in glob.iglob(img_path+'/paper/*.jpg'):\n",
    "        img = np.array(Image.open(file),dtype=np.int32)\n",
    "        imgs[idx,:,:,:]=img    # 데이터 영역에 이미지 행렬을 복사\n",
    "        labels[idx]=2   # 보 : 2\n",
    "        idx=idx+1\n",
    "        \n",
    "    print(\"학습데이터(x_train)의 이미지 개수는\", idx,\"입니다.\")\n",
    "    return imgs, labels"
   ]
  },
  {
   "cell_type": "code",
   "execution_count": 14,
   "id": "638310b5",
   "metadata": {},
   "outputs": [
    {
     "name": "stdout",
     "output_type": "stream",
     "text": [
      "1 images to be resized.\n",
      "1  images resized.\n"
     ]
    }
   ],
   "source": [
    "image_dir_path = os.getenv(\"HOME\") + \"/aiffel/rock_scissor_paper/\"\n",
    "resize_images(image_dir_path)"
   ]
  },
  {
   "cell_type": "code",
   "execution_count": 16,
   "id": "c2a9b4dd",
   "metadata": {},
   "outputs": [
    {
     "name": "stdout",
     "output_type": "stream",
     "text": [
      "605 images to be resized.\n",
      "605  images resized.\n",
      "608 images to be resized.\n",
      "608  images resized.\n",
      "607 images to be resized.\n",
      "607  images resized.\n",
      "100 images to be resized.\n",
      "100  images resized.\n",
      "100 images to be resized.\n",
      "100  images resized.\n",
      "100 images to be resized.\n",
      "100  images resized.\n"
     ]
    }
   ],
   "source": [
    "# 가위 이미지 resize\n",
    "image_dir_path = os.getenv(\"HOME\") + \"/aiffel/rock_scissor_paper/extended/scissor/\"\n",
    "resize_images(image_dir_path)\n",
    "\n",
    "# 바위 이미지 resize\n",
    "image_dir_path = os.getenv(\"HOME\") + \"/aiffel/rock_scissor_paper/extended/rock/\"\n",
    "resize_images(image_dir_path)\n",
    "\n",
    "# 보 이미지 resize\n",
    "image_dir_path = os.getenv(\"HOME\") + \"/aiffel/rock_scissor_paper/extended/paper/\"\n",
    "resize_images(image_dir_path)\n",
    "\n",
    "# test 이미지 resize\n",
    "# 가위 이미지 resize\n",
    "image_dir_path = os.getenv(\"HOME\") + \"/aiffel/rock_scissor_paper/extended/test/scissor/\"\n",
    "resize_images(image_dir_path)\n",
    "\n",
    "# 바위 이미지 resize\n",
    "image_dir_path = os.getenv(\"HOME\") + \"/aiffel/rock_scissor_paper/extended/test/rock/\"\n",
    "resize_images(image_dir_path)\n",
    "\n",
    "# 보 이미지 resize\n",
    "image_dir_path = os.getenv(\"HOME\") + \"/aiffel/rock_scissor_paper/extended/test/paper/\"\n",
    "resize_images(image_dir_path)"
   ]
  },
  {
   "cell_type": "code",
   "execution_count": 17,
   "id": "0532506e",
   "metadata": {},
   "outputs": [
    {
     "name": "stdout",
     "output_type": "stream",
     "text": [
      "학습데이터(x_train)의 이미지 개수는 1820 입니다.\n",
      "x_train shape: (1820, 96, 96, 3)\n",
      "y_train shape: (1820,)\n"
     ]
    }
   ],
   "source": [
    "image_dir_path = os.getenv(\"HOME\") + \"/aiffel/rock_scissor_paper/extended/\"\n",
    "(x_train, y_train)=load_data(image_dir_path, number_of_data=1820)\n",
    "x_train_norm = x_train/255.0   # 입력은 0~1 사이의 값으로 정규화\n",
    "\n",
    "print(\"x_train shape: {}\".format(x_train.shape))\n",
    "print(\"y_train shape: {}\".format(y_train.shape))"
   ]
  },
  {
   "cell_type": "code",
   "execution_count": 18,
   "id": "4fd296aa",
   "metadata": {},
   "outputs": [
    {
     "name": "stdout",
     "output_type": "stream",
     "text": [
      "Model: \"sequential_1\"\n",
      "_________________________________________________________________\n",
      "Layer (type)                 Output Shape              Param #   \n",
      "=================================================================\n",
      "conv2d_3 (Conv2D)            (None, 94, 94, 32)        896       \n",
      "_________________________________________________________________\n",
      "max_pooling2d_3 (MaxPooling2 (None, 47, 47, 32)        0         \n",
      "_________________________________________________________________\n",
      "conv2d_4 (Conv2D)            (None, 45, 45, 64)        18496     \n",
      "_________________________________________________________________\n",
      "max_pooling2d_4 (MaxPooling2 (None, 22, 22, 64)        0         \n",
      "_________________________________________________________________\n",
      "conv2d_5 (Conv2D)            (None, 20, 20, 64)        36928     \n",
      "_________________________________________________________________\n",
      "max_pooling2d_5 (MaxPooling2 (None, 10, 10, 64)        0         \n",
      "_________________________________________________________________\n",
      "flatten_1 (Flatten)          (None, 6400)              0         \n",
      "_________________________________________________________________\n",
      "dense_3 (Dense)              (None, 64)                409664    \n",
      "_________________________________________________________________\n",
      "dense_4 (Dense)              (None, 32)                2080      \n",
      "_________________________________________________________________\n",
      "dense_5 (Dense)              (None, 3)                 99        \n",
      "=================================================================\n",
      "Total params: 468,163\n",
      "Trainable params: 468,163\n",
      "Non-trainable params: 0\n",
      "_________________________________________________________________\n"
     ]
    }
   ],
   "source": [
    "import tensorflow as tf\n",
    "from tensorflow import keras\n",
    "import numpy as np\n",
    "\n",
    "n_channel_1= 32\n",
    "n_channel_2= 64\n",
    "n_dense= 64\n",
    "n_train_epoch= 10\n",
    "\n",
    "model2=keras.models.Sequential()\n",
    "model2.add(keras.layers.Conv2D(n_channel_1, (3,3), activation='relu', input_shape=(96,96,3)))\n",
    "model2.add(keras.layers.MaxPool2D(2,2))\n",
    "model2.add(keras.layers.Conv2D(n_channel_2, (3,3), activation='relu'))\n",
    "model2.add(keras.layers.MaxPooling2D((2,2)))\n",
    "model2.add(keras.layers.Conv2D(n_channel_2, (3,3), activation='relu'))\n",
    "model2.add(keras.layers.MaxPooling2D((2,2)))\n",
    "model2.add(keras.layers.Flatten())\n",
    "model2.add(keras.layers.Dense(n_dense, activation='relu'))\n",
    "model2.add(keras.layers.Dense(32, activation='relu'))\n",
    "model2.add(keras.layers.Dense(3, activation='softmax'))\n",
    "\n",
    "# 모델 확인\n",
    "model2.summary()"
   ]
  },
  {
   "cell_type": "code",
   "execution_count": 19,
   "id": "497c5cec",
   "metadata": {},
   "outputs": [
    {
     "name": "stdout",
     "output_type": "stream",
     "text": [
      "Epoch 1/10\n",
      "57/57 [==============================] - 34s 587ms/step - loss: 3.7257 - accuracy: 0.4500\n",
      "Epoch 2/10\n",
      "57/57 [==============================] - 33s 575ms/step - loss: 0.7272 - accuracy: 0.7000\n",
      "Epoch 3/10\n",
      "57/57 [==============================] - 33s 580ms/step - loss: 0.3224 - accuracy: 0.8769\n",
      "Epoch 4/10\n",
      "57/57 [==============================] - 33s 577ms/step - loss: 0.1630 - accuracy: 0.9462\n",
      "Epoch 5/10\n",
      "57/57 [==============================] - 33s 578ms/step - loss: 0.0714 - accuracy: 0.9797\n",
      "Epoch 6/10\n",
      "57/57 [==============================] - 32s 570ms/step - loss: 0.0827 - accuracy: 0.9764\n",
      "Epoch 7/10\n",
      "57/57 [==============================] - 34s 594ms/step - loss: 0.0449 - accuracy: 0.9896\n",
      "Epoch 8/10\n",
      "57/57 [==============================] - 34s 595ms/step - loss: 0.0151 - accuracy: 0.9967\n",
      "Epoch 9/10\n",
      "57/57 [==============================] - 34s 594ms/step - loss: 0.0022 - accuracy: 1.0000\n",
      "Epoch 10/10\n",
      "57/57 [==============================] - 34s 600ms/step - loss: 7.9684e-04 - accuracy: 1.0000\n"
     ]
    },
    {
     "data": {
      "text/plain": [
       "<keras.callbacks.History at 0x7f9b098238b0>"
      ]
     },
     "execution_count": 19,
     "metadata": {},
     "output_type": "execute_result"
    }
   ],
   "source": [
    "model2.compile(optimizer='adam', loss='sparse_categorical_crossentropy', \n",
    "metrics=['accuracy'])\n",
    "\n",
    "model2.fit(x_train, y_train, epochs=10)"
   ]
  },
  {
   "cell_type": "code",
   "execution_count": 20,
   "id": "bd5174e7",
   "metadata": {},
   "outputs": [
    {
     "name": "stdout",
     "output_type": "stream",
     "text": [
      "학습데이터(x_train)의 이미지 개수는 300 입니다.\n",
      "x_test shape: (300, 96, 96, 3)\n",
      "y_test shape: (300,)\n"
     ]
    }
   ],
   "source": [
    "image_dir_path = os.getenv(\"HOME\") + \"/aiffel/rock_scissor_paper/extended/test/\"\n",
    "(x_test, y_test)=load_data(image_dir_path)\n",
    "x_test_norm = x_test/255.0   # 입력은 0~1 사이의 값으로 정규화\n",
    "\n",
    "print(\"x_test shape: {}\".format(x_test.shape))\n",
    "print(\"y_test shape: {}\".format(y_test.shape))"
   ]
  },
  {
   "cell_type": "code",
   "execution_count": 21,
   "id": "851ef965",
   "metadata": {},
   "outputs": [
    {
     "name": "stdout",
     "output_type": "stream",
     "text": [
      "10/10 - 2s - loss: 1.0871 - accuracy: 0.4167\n",
      "test_loss: 1.0870648622512817\n",
      "test_accuracy: 0.4166666567325592\n"
     ]
    }
   ],
   "source": [
    "test_loss, test_accuracy = model2.evaluate(x_test_norm, y_test, verbose=2)\n",
    "print(f\"test_loss: {test_loss}\")\n",
    "print(f\"test_accuracy: {test_accuracy}\")"
   ]
  },
  {
   "cell_type": "markdown",
   "id": "a063cc70",
   "metadata": {},
   "source": [
    "## 문제점\n",
    "1. 9, 10 epoch에서 accuracy 1을 달성\n",
    "2. train보다 test accuracy가 많이 떨어지는 점\n",
    "\n",
    "try 방향:\n",
    "1. 모델에 dropout을 통해 일반화 시도, Dense layer 하나 삭제하여 복잡도 감소\n",
    "2. train 데이터셋 정리 필요..."
   ]
  },
  {
   "cell_type": "code",
   "execution_count": 22,
   "id": "1c1db22d",
   "metadata": {},
   "outputs": [
    {
     "name": "stdout",
     "output_type": "stream",
     "text": [
      "Model: \"sequential_2\"\n",
      "_________________________________________________________________\n",
      "Layer (type)                 Output Shape              Param #   \n",
      "=================================================================\n",
      "conv2d_6 (Conv2D)            (None, 94, 94, 32)        896       \n",
      "_________________________________________________________________\n",
      "max_pooling2d_6 (MaxPooling2 (None, 47, 47, 32)        0         \n",
      "_________________________________________________________________\n",
      "conv2d_7 (Conv2D)            (None, 45, 45, 64)        18496     \n",
      "_________________________________________________________________\n",
      "max_pooling2d_7 (MaxPooling2 (None, 22, 22, 64)        0         \n",
      "_________________________________________________________________\n",
      "conv2d_8 (Conv2D)            (None, 20, 20, 64)        36928     \n",
      "_________________________________________________________________\n",
      "max_pooling2d_8 (MaxPooling2 (None, 10, 10, 64)        0         \n",
      "_________________________________________________________________\n",
      "flatten_2 (Flatten)          (None, 6400)              0         \n",
      "_________________________________________________________________\n",
      "dense_6 (Dense)              (None, 64)                409664    \n",
      "_________________________________________________________________\n",
      "dropout (Dropout)            (None, 64)                0         \n",
      "_________________________________________________________________\n",
      "dense_7 (Dense)              (None, 3)                 195       \n",
      "=================================================================\n",
      "Total params: 466,179\n",
      "Trainable params: 466,179\n",
      "Non-trainable params: 0\n",
      "_________________________________________________________________\n"
     ]
    }
   ],
   "source": [
    "model3=keras.models.Sequential()\n",
    "model3.add(keras.layers.Conv2D(n_channel_1, (3,3), activation='relu', input_shape=(96,96,3)))\n",
    "model3.add(keras.layers.MaxPool2D(2,2))\n",
    "model3.add(keras.layers.Conv2D(n_channel_2, (3,3), activation='relu'))\n",
    "model3.add(keras.layers.MaxPooling2D((2,2)))\n",
    "model3.add(keras.layers.Conv2D(n_channel_2, (3,3), activation='relu'))\n",
    "model3.add(keras.layers.MaxPooling2D((2,2)))\n",
    "model3.add(keras.layers.Flatten())\n",
    "model3.add(keras.layers.Dense(n_dense, activation='relu'))\n",
    "model3.add(keras.layers.Dropout(0.3))\n",
    "model3.add(keras.layers.Dense(3, activation='softmax'))\n",
    "\n",
    "# 모델 확인\n",
    "model3.summary()"
   ]
  },
  {
   "cell_type": "code",
   "execution_count": 23,
   "id": "b454c6c4",
   "metadata": {},
   "outputs": [
    {
     "name": "stdout",
     "output_type": "stream",
     "text": [
      "Epoch 1/10\n",
      "57/57 [==============================] - 34s 591ms/step - loss: 5.1359 - accuracy: 0.3385\n",
      "Epoch 2/10\n",
      "57/57 [==============================] - 34s 591ms/step - loss: 1.0723 - accuracy: 0.4231\n",
      "Epoch 3/10\n",
      "57/57 [==============================] - 34s 598ms/step - loss: 0.9261 - accuracy: 0.5599\n",
      "Epoch 4/10\n",
      "57/57 [==============================] - 34s 596ms/step - loss: 0.7013 - accuracy: 0.6659\n",
      "Epoch 5/10\n",
      "57/57 [==============================] - 34s 593ms/step - loss: 0.5485 - accuracy: 0.7346\n",
      "Epoch 6/10\n",
      "57/57 [==============================] - 34s 595ms/step - loss: 0.4409 - accuracy: 0.7835\n",
      "Epoch 7/10\n",
      "57/57 [==============================] - 34s 598ms/step - loss: 0.3648 - accuracy: 0.8220\n",
      "Epoch 8/10\n",
      "57/57 [==============================] - 34s 596ms/step - loss: 0.2743 - accuracy: 0.8681\n",
      "Epoch 9/10\n",
      "57/57 [==============================] - 34s 596ms/step - loss: 0.2431 - accuracy: 0.8857\n",
      "Epoch 10/10\n",
      "57/57 [==============================] - 34s 597ms/step - loss: 0.1694 - accuracy: 0.9297\n"
     ]
    },
    {
     "data": {
      "text/plain": [
       "<keras.callbacks.History at 0x7f9b3982e940>"
      ]
     },
     "execution_count": 23,
     "metadata": {},
     "output_type": "execute_result"
    }
   ],
   "source": [
    "model3.compile(optimizer='adam', loss='sparse_categorical_crossentropy', \n",
    "metrics=['accuracy'])\n",
    "\n",
    "model3.fit(x_train, y_train, epochs=10)"
   ]
  },
  {
   "cell_type": "code",
   "execution_count": 24,
   "id": "6d81f059",
   "metadata": {},
   "outputs": [
    {
     "name": "stdout",
     "output_type": "stream",
     "text": [
      "10/10 - 2s - loss: 1.0934 - accuracy: 0.4067\n",
      "test_loss: 1.0933808088302612\n",
      "test_accuracy: 0.40666666626930237\n"
     ]
    }
   ],
   "source": [
    "test_loss, test_accuracy = model3.evaluate(x_test_norm, y_test, verbose=2)\n",
    "print(f\"test_loss: {test_loss}\")\n",
    "print(f\"test_accuracy: {test_accuracy}\")"
   ]
  },
  {
   "cell_type": "markdown",
   "id": "5b5c236f",
   "metadata": {},
   "source": [
    "예상되는 문제\n",
    "1. 데이터 숫자가 적은 데에 비해 데이터 다양성 부족(100장 사이 유사도 높음)\n",
    "    * 데이터 증강으로 보완가능하지 않을까...?\n",
    "2. 적은 수의 데이터로 잘 학습시키기 위해서는 데이터 정제 필요할 것으로 보임  \n",
    "    * ex) 배경 삭제, 손 크기 맞춰 리사이징, 손의 방향, 모양 일치시키기 등\n",
    "3. 다른 사람의 가위바위보 이미지로 테스트 하는게 아니라 모든 데이터를 합쳐서 일정 비율을 테스트셋으로 빼놓는다면 accuracy 높아지지 않을까라는 생각  \n",
    "  \n",
    "  \n",
    "3번 정도는 다시 시도해볼 수 있을 듯"
   ]
  },
  {
   "cell_type": "code",
   "execution_count": 2,
   "id": "1cdac9f8",
   "metadata": {},
   "outputs": [
    {
     "data": {
      "text/plain": [
       "((2720, 96, 96, 3), (2720,))"
      ]
     },
     "execution_count": 2,
     "metadata": {},
     "output_type": "execute_result"
    }
   ],
   "source": [
    "image_datas = glob.glob(os.getenv(\"HOME\") + \"/aiffel/rock_scissor_paper/extended/all/*/*.jpg\")\n",
    "class_name =['rock', 'scissor', 'paper']\n",
    "dic = {'rock':0, 'scissor':1, 'paper':2}\n",
    "\n",
    "X = []\n",
    "y = []\n",
    "for imagename in image_datas:\n",
    "    img = Image.open(imagename)\n",
    "    img = img.resize((96, 96))\n",
    "    img = np.array(img)\n",
    "    X.append(img)\n",
    "    label = imagename.split('/')[6]\n",
    "    label = dic[label]\n",
    "    y.append(label)\n",
    "\n",
    "X = np.array(X)\n",
    "y = np.array(y)\n",
    "\n",
    "X.shape, y.shape"
   ]
  },
  {
   "cell_type": "code",
   "execution_count": 28,
   "id": "1226f750",
   "metadata": {},
   "outputs": [
    {
     "data": {
      "text/plain": [
       "((1904, 96, 96, 3), (1904,), (816, 96, 96, 3), (816,))"
      ]
     },
     "execution_count": 28,
     "metadata": {},
     "output_type": "execute_result"
    }
   ],
   "source": [
    "from sklearn.model_selection import train_test_split\n",
    "\n",
    "X_train, X_test, y_train, y_test = train_test_split(X, y, test_size=0.3, shuffle=True)\n",
    "\n",
    "X_train.shape, y_train.shape, X_test.shape, y_test.shape"
   ]
  },
  {
   "cell_type": "code",
   "execution_count": 29,
   "id": "f0a7ff9d",
   "metadata": {},
   "outputs": [
    {
     "name": "stdout",
     "output_type": "stream",
     "text": [
      "1\n"
     ]
    },
    {
     "data": {
      "image/png": "[encoded data removed]",
      "text/plain": [
       "<Figure size 432x288 with 1 Axes>"
      ]
     },
     "metadata": {
      "needs_background": "light"
     },
     "output_type": "display_data"
    }
   ],
   "source": [
    "import matplotlib.pyplot as plt\n",
    "\n",
    "plt.imshow(X_train[1000])\n",
    "print(y_train[1000])"
   ]
  },
  {
   "cell_type": "code",
   "execution_count": 30,
   "id": "1f1c433e",
   "metadata": {},
   "outputs": [
    {
     "name": "stdout",
     "output_type": "stream",
     "text": [
      "Model: \"sequential_3\"\n",
      "_________________________________________________________________\n",
      "Layer (type)                 Output Shape              Param #   \n",
      "=================================================================\n",
      "conv2d_9 (Conv2D)            (None, 94, 94, 32)        896       \n",
      "_________________________________________________________________\n",
      "max_pooling2d_9 (MaxPooling2 (None, 47, 47, 32)        0         \n",
      "_________________________________________________________________\n",
      "conv2d_10 (Conv2D)           (None, 45, 45, 64)        18496     \n",
      "_________________________________________________________________\n",
      "max_pooling2d_10 (MaxPooling (None, 22, 22, 64)        0         \n",
      "_________________________________________________________________\n",
      "conv2d_11 (Conv2D)           (None, 20, 20, 64)        36928     \n",
      "_________________________________________________________________\n",
      "max_pooling2d_11 (MaxPooling (None, 10, 10, 64)        0         \n",
      "_________________________________________________________________\n",
      "flatten_3 (Flatten)          (None, 6400)              0         \n",
      "_________________________________________________________________\n",
      "dense_8 (Dense)              (None, 64)                409664    \n",
      "_________________________________________________________________\n",
      "dropout_1 (Dropout)          (None, 64)                0         \n",
      "_________________________________________________________________\n",
      "dense_9 (Dense)              (None, 3)                 195       \n",
      "=================================================================\n",
      "Total params: 466,179\n",
      "Trainable params: 466,179\n",
      "Non-trainable params: 0\n",
      "_________________________________________________________________\n"
     ]
    }
   ],
   "source": [
    "model4=keras.models.Sequential()\n",
    "model4.add(keras.layers.Conv2D(n_channel_1, (3,3), activation='relu', input_shape=(96,96,3)))\n",
    "model4.add(keras.layers.MaxPool2D(2,2))\n",
    "model4.add(keras.layers.Conv2D(n_channel_2, (3,3), activation='relu'))\n",
    "model4.add(keras.layers.MaxPooling2D((2,2)))\n",
    "model4.add(keras.layers.Conv2D(n_channel_2, (3,3), activation='relu'))\n",
    "model4.add(keras.layers.MaxPooling2D((2,2)))\n",
    "model4.add(keras.layers.Flatten())\n",
    "model4.add(keras.layers.Dense(n_dense, activation='relu'))\n",
    "model4.add(keras.layers.Dropout(0.3))\n",
    "model4.add(keras.layers.Dense(3, activation='softmax'))\n",
    "\n",
    "model4.summary()"
   ]
  },
  {
   "cell_type": "code",
   "execution_count": 31,
   "id": "7e2fc162",
   "metadata": {},
   "outputs": [
    {
     "name": "stdout",
     "output_type": "stream",
     "text": [
      "Epoch 1/10\n",
      "60/60 [==============================] - 37s 603ms/step - loss: 4.2679 - accuracy: 0.4900\n",
      "Epoch 2/10\n",
      "60/60 [==============================] - 36s 602ms/step - loss: 0.6244 - accuracy: 0.7363\n",
      "Epoch 3/10\n",
      "60/60 [==============================] - 36s 602ms/step - loss: 0.3901 - accuracy: 0.8472\n",
      "Epoch 4/10\n",
      "60/60 [==============================] - 36s 605ms/step - loss: 0.2318 - accuracy: 0.9076\n",
      "Epoch 5/10\n",
      "60/60 [==============================] - 36s 606ms/step - loss: 0.1534 - accuracy: 0.9449\n",
      "Epoch 6/10\n",
      "60/60 [==============================] - 35s 592ms/step - loss: 0.1172 - accuracy: 0.9622\n",
      "Epoch 7/10\n",
      "60/60 [==============================] - 36s 605ms/step - loss: 0.0771 - accuracy: 0.9753\n",
      "Epoch 8/10\n",
      "60/60 [==============================] - 36s 595ms/step - loss: 0.0747 - accuracy: 0.9732\n",
      "Epoch 9/10\n",
      "60/60 [==============================] - 36s 602ms/step - loss: 0.0471 - accuracy: 0.9858\n",
      "Epoch 10/10\n",
      "60/60 [==============================] - 36s 604ms/step - loss: 0.0343 - accuracy: 0.9884\n"
     ]
    },
    {
     "data": {
      "text/plain": [
       "<keras.callbacks.History at 0x7f9b402f0490>"
      ]
     },
     "execution_count": 31,
     "metadata": {},
     "output_type": "execute_result"
    }
   ],
   "source": [
    "model4.compile(optimizer='adam', \n",
    "               loss='sparse_categorical_crossentropy', \n",
    "               metrics=['accuracy'])\n",
    "\n",
    "model4.fit(X_train, y_train, epochs=10)"
   ]
  },
  {
   "cell_type": "code",
   "execution_count": 32,
   "id": "7ccf6126",
   "metadata": {},
   "outputs": [
    {
     "name": "stdout",
     "output_type": "stream",
     "text": [
      "26/26 - 4s - loss: 0.0671 - accuracy: 0.9828\n",
      "test_loss: 0.06706885993480682\n",
      "test_accuracy: 0.9828431606292725\n"
     ]
    }
   ],
   "source": [
    "test_loss, test_accuracy = model4.evaluate(X_test, y_test, verbose=2)\n",
    "print(f\"test_loss: {test_loss}\")\n",
    "print(f\"test_accuracy: {test_accuracy}\")"
   ]
  },
  {
   "cell_type": "code",
   "execution_count": 4,
   "id": "1627d518",
   "metadata": {},
   "outputs": [
    {
     "data": {
      "text/plain": [
       "((1904, 96, 96, 3), (1904,), (816, 96, 96, 3), (816,))"
      ]
     },
     "execution_count": 4,
     "metadata": {},
     "output_type": "execute_result"
    }
   ],
   "source": [
    "# 값 정규화해서 다시 하기\n",
    "X = np.array(X)/225.0\n",
    "y = np.array(y)\n",
    "\n",
    "from sklearn.model_selection import train_test_split\n",
    "\n",
    "X_train, X_test, y_train, y_test = train_test_split(X, y, test_size=0.3, shuffle=True)\n",
    "\n",
    "X_train.shape, y_train.shape, X_test.shape, y_test.shape"
   ]
  },
  {
   "cell_type": "code",
   "execution_count": 9,
   "id": "9f485444",
   "metadata": {},
   "outputs": [
    {
     "name": "stdout",
     "output_type": "stream",
     "text": [
      "Model: \"sequential_1\"\n",
      "_________________________________________________________________\n",
      "Layer (type)                 Output Shape              Param #   \n",
      "=================================================================\n",
      "conv2d (Conv2D)              (None, 94, 94, 32)        896       \n",
      "_________________________________________________________________\n",
      "max_pooling2d (MaxPooling2D) (None, 47, 47, 32)        0         \n",
      "_________________________________________________________________\n",
      "conv2d_1 (Conv2D)            (None, 45, 45, 64)        18496     \n",
      "_________________________________________________________________\n",
      "max_pooling2d_1 (MaxPooling2 (None, 22, 22, 64)        0         \n",
      "_________________________________________________________________\n",
      "conv2d_2 (Conv2D)            (None, 20, 20, 64)        36928     \n",
      "_________________________________________________________________\n",
      "max_pooling2d_2 (MaxPooling2 (None, 10, 10, 64)        0         \n",
      "_________________________________________________________________\n",
      "flatten (Flatten)            (None, 6400)              0         \n",
      "_________________________________________________________________\n",
      "dense (Dense)                (None, 64)                409664    \n",
      "_________________________________________________________________\n",
      "dropout (Dropout)            (None, 64)                0         \n",
      "_________________________________________________________________\n",
      "dense_1 (Dense)              (None, 3)                 195       \n",
      "=================================================================\n",
      "Total params: 466,179\n",
      "Trainable params: 466,179\n",
      "Non-trainable params: 0\n",
      "_________________________________________________________________\n"
     ]
    }
   ],
   "source": [
    "n_channel_1= 32\n",
    "n_channel_2= 64\n",
    "n_dense= 64\n",
    "n_train_epoch= 10\n",
    "\n",
    "model5=keras.models.Sequential()\n",
    "model5.add(keras.layers.Conv2D(n_channel_1, (3,3), activation='relu', input_shape=(96,96,3)))\n",
    "model5.add(keras.layers.MaxPool2D(2,2))\n",
    "model5.add(keras.layers.Conv2D(n_channel_2, (3,3), activation='relu'))\n",
    "model5.add(keras.layers.MaxPooling2D((2,2)))\n",
    "model5.add(keras.layers.Conv2D(n_channel_2, (3,3), activation='relu'))\n",
    "model5.add(keras.layers.MaxPooling2D((2,2)))\n",
    "model5.add(keras.layers.Flatten())\n",
    "model5.add(keras.layers.Dense(n_dense, activation='relu'))\n",
    "model5.add(keras.layers.Dropout(0.3))\n",
    "model5.add(keras.layers.Dense(3, activation='softmax'))\n",
    "\n",
    "model5.summary()"
   ]
  },
  {
   "cell_type": "code",
   "execution_count": 10,
   "id": "c01dd5ca",
   "metadata": {},
   "outputs": [
    {
     "name": "stdout",
     "output_type": "stream",
     "text": [
      "Epoch 1/10\n",
      "60/60 [==============================] - 35s 560ms/step - loss: 1.0990 - accuracy: 0.3193\n",
      "Epoch 2/10\n",
      "60/60 [==============================] - 32s 540ms/step - loss: 1.0988 - accuracy: 0.3114\n",
      "Epoch 3/10\n",
      "60/60 [==============================] - 33s 544ms/step - loss: 1.0988 - accuracy: 0.3193\n",
      "Epoch 4/10\n",
      "60/60 [==============================] - 33s 542ms/step - loss: 1.0988 - accuracy: 0.3225\n",
      "Epoch 5/10\n",
      "60/60 [==============================] - 32s 539ms/step - loss: 1.0988 - accuracy: 0.3214\n",
      "Epoch 6/10\n",
      "60/60 [==============================] - 32s 541ms/step - loss: 1.0987 - accuracy: 0.3141\n",
      "Epoch 7/10\n",
      "60/60 [==============================] - 33s 545ms/step - loss: 1.0988 - accuracy: 0.3314\n",
      "Epoch 8/10\n",
      "60/60 [==============================] - 33s 545ms/step - loss: 1.0988 - accuracy: 0.3172\n",
      "Epoch 9/10\n",
      "60/60 [==============================] - 33s 550ms/step - loss: 1.0986 - accuracy: 0.3325\n",
      "Epoch 10/10\n",
      "60/60 [==============================] - 32s 541ms/step - loss: 1.0987 - accuracy: 0.3157\n"
     ]
    }
   ],
   "source": [
    "model5.compile(optimizer='adam', \n",
    "               loss='sparse_categorical_crossentropy', \n",
    "               metrics=['accuracy'])\n",
    "\n",
    "history = model5.fit(X_train, y_train, epochs=10)"
   ]
  },
  {
   "cell_type": "code",
   "execution_count": null,
   "id": "4726c5be",
   "metadata": {},
   "outputs": [],
   "source": []
  }
 ],
 "metadata": {
  "kernelspec": {
   "display_name": "Python 3 (ipykernel)",
   "language": "python",
   "name": "python3"
  },
  "language_info": {
   "codemirror_mode": {
    "name": "ipython",
    "version": 3
   },
   "file_extension": ".py",
   "mimetype": "text/x-python",
   "name": "python",
   "nbconvert_exporter": "python",
   "pygments_lexer": "ipython3",
   "version": "3.9.7"
  }
 },
 "nbformat": 4,
 "nbformat_minor": 5
}
