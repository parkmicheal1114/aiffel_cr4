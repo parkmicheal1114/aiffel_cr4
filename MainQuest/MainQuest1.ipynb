{
  "nbformat": 4,
  "nbformat_minor": 0,
  "metadata": {
    "colab": {
      "provenance": [],
      "authorship_tag": "ABX9TyOHBMVwehpIzN22srf/yUZR",
      "include_colab_link": true
    },
    "kernelspec": {
      "name": "python3",
      "display_name": "Python 3"
    },
    "language_info": {
      "name": "python"
    }
  },
  "cells": [
    {
      "cell_type": "markdown",
      "metadata": {
        "id": "view-in-github",
        "colab_type": "text"
      },
      "source": [
        "<a href=\"https://colab.research.google.com/github/8Chatea8/Python_Quest/blob/master/MainQuest/MainQuest1.ipynb\" target=\"_parent\"><img src=\"https://colab.research.google.com/assets/colab-badge.svg\" alt=\"Open In Colab\"/></a>"
      ]
    },
    {
      "cell_type": "markdown",
      "source": [
        "###Q1. Account 클래스\n",
        "은행에 가서 계좌를 개설하면 은행이름, 예금주, 계좌번호, 잔액이 설정됩니다.  \n",
        "Account 클래스를 생성한 후 생성자를 구현하기  \n",
        "생성자에서는 예금주와 초기 잔액만 입력 받음  \n",
        "은행이름은 SC은행으로 계좌 번호는 3자리-2자리-6자리 형태로 랜덤하게 생성  \n",
        "은행이름:SC은행  \n",
        "계좌번호: 111-11-111111  \n",
        "\n",
        "  "
      ],
      "metadata": {
        "id": "qgZeP_CfIOUU"
      }
    },
    {
      "cell_type": "code",
      "source": [
        "import random\n",
        "# 랜덤으로 게좌번호를 생성하기 위해 random 모듈 임포트 "
      ],
      "metadata": {
        "id": "F2mRXQ2uMII5"
      },
      "execution_count": 1,
      "outputs": []
    },
    {
      "cell_type": "code",
      "execution_count": 2,
      "metadata": {
        "id": "RJEUsybOIAH9"
      },
      "outputs": [],
      "source": [
        "class Account():\n",
        "    def __init__(self, name, balance):\n",
        "        self.name = name            # 예금주\n",
        "        self.balance = balance      # 잔액\n",
        "        self.bank = 'SC은행'        # 은행이름\n",
        "\n",
        "        # 각 자리수에 맞게 무작위 번호 생성\n",
        "        num1 = random.randint(0,999)\n",
        "        num2 = random.randint(0, 99)\n",
        "        num3 = random.randint(0, 999999)\n",
        "        # 자리수 맞추기 위해 0 채워주기         num1 = 3 이면, num1 = 003 으로 저장하기\n",
        "        num1 = str(num1).zfill(3)\n",
        "        num2 = str(num2).zfill(2)\n",
        "        num3 = str(num3).zfill(6)\n",
        "\n",
        "        self.account_number = num1 + '-' + num2 + '-' + num3    # 계좌번호 \n"
      ]
    },
    {
      "cell_type": "code",
      "source": [
        "jecha = Account('차정은', 4000)\n",
        "print(jecha.name, jecha.balance, jecha.bank, jecha.account_number)"
      ],
      "metadata": {
        "colab": {
          "base_uri": "https://localhost:8080/"
        },
        "id": "2c41zu5XNmqo",
        "outputId": "1c585b4c-1eec-450c-fbad-51bb33579b20"
      },
      "execution_count": 3,
      "outputs": [
        {
          "output_type": "stream",
          "name": "stdout",
          "text": [
            "차정은 4000 SC은행 453-32-903682\n"
          ]
        }
      ]
    },
    {
      "cell_type": "markdown",
      "source": [
        "### Q2. 클래스 변수\n",
        "클래스 변수를 사용해서 Account 클래스로부터 생성된 계좌 객체의 개수 저장하기"
      ],
      "metadata": {
        "id": "6_HskqgOIsBL"
      }
    },
    {
      "cell_type": "code",
      "source": [
        "class Account():\n",
        "    # 클래스 변수\n",
        "    account_count = 0\n",
        "\n",
        "    def __init__(self, name, balance):\n",
        "        self.name = name            # 예금주\n",
        "        self.balance = balance      # 잔액\n",
        "        self.bank = 'SC은행'        # 은행이름\n",
        "\n",
        "        # 각 자리수에 맞게 무작위 번호 생성\n",
        "        num1 = random.randint(0,999)\n",
        "        num2 = random.randint(0, 99)\n",
        "        num3 = random.randint(0, 999999)\n",
        "        # 자리수 맞추기 위해 0 채워주기         num1 = 3 이면, num1 = 003 으로 저장하기\n",
        "        num1 = str(num1).zfill(3)\n",
        "        num2 = str(num2).zfill(2)\n",
        "        num3 = str(num3).zfill(6)\n",
        "\n",
        "        self.account_number = num1 + '-' + num2 + '-' + num3    # 계좌번호 \n",
        "\n",
        "        # 계좌번호가 생성될 때 클래스 변수 account_count에 1씩 더하기\n",
        "        Account.account_count += 1"
      ],
      "metadata": {
        "id": "B6Or3CK6I7xs"
      },
      "execution_count": 4,
      "outputs": []
    },
    {
      "cell_type": "code",
      "source": [
        "harry = Account('해리 포터', 4000000)\n",
        "ron = Account('론 위즐리', 2000)\n",
        "hermione = Account('헤르미온느 그레인저', 50000)\n",
        "\n",
        "Account.account_count"
      ],
      "metadata": {
        "colab": {
          "base_uri": "https://localhost:8080/"
        },
        "id": "1ru8chpoPGjg",
        "outputId": "e6aa288d-d1c0-4c9b-b862-4d30a82be215"
      },
      "execution_count": 5,
      "outputs": [
        {
          "output_type": "execute_result",
          "data": {
            "text/plain": [
              "3"
            ]
          },
          "metadata": {},
          "execution_count": 5
        }
      ]
    },
    {
      "cell_type": "markdown",
      "source": [
        "### Q3. 클래스 변수 출력\n",
        "Account 클래스로부터 생성된 계좌의 개수를 출력하는 `get_account_num()` 메서드 추가"
      ],
      "metadata": {
        "id": "UYhj-zjGI8Oq"
      }
    },
    {
      "cell_type": "code",
      "source": [
        "class Account():\n",
        "    # 클래스 변수\n",
        "    account_count = 0\n",
        "\n",
        "    def __init__(self, name, balance):\n",
        "        self.name = name            # 예금주\n",
        "        self.balance = balance      # 잔액\n",
        "        self.bank = 'SC은행'        # 은행이름\n",
        "\n",
        "        # 각 자리수에 맞게 무작위 번호 생성\n",
        "        num1 = random.randint(0,999)\n",
        "        num2 = random.randint(0, 99)\n",
        "        num3 = random.randint(0, 999999)\n",
        "        # 자리수 맞추기 위해 0 채워주기         num1 = 3 이면, num1 = 003 으로 저장하기\n",
        "        num1 = str(num1).zfill(3)\n",
        "        num2 = str(num2).zfill(2)\n",
        "        num3 = str(num3).zfill(6)\n",
        "\n",
        "        self.account_number = num1 + '-' + num2 + '-' + num3    # 계좌번호 \n",
        "\n",
        "        # 계좌번호가 생성될 때 클래스 변수 account_count에 1씩 더하기\n",
        "        Account.account_count += 1\n",
        "\n",
        "    # 클래스 변수에 접근하기 때문에 클래스 메서드 사용 \n",
        "    @classmethod\n",
        "    def get_account_num(cls):\n",
        "        print(f'생성된 계좌의 총 개수는 {cls.account_count}개 입니다.')"
      ],
      "metadata": {
        "id": "ZdPvdtqmJKt7"
      },
      "execution_count": 6,
      "outputs": []
    },
    {
      "cell_type": "code",
      "source": [
        "harry = Account('해리 포터', 4000000)\n",
        "ron = Account('론 위즐리', 2000)\n",
        "hermione = Account('헤르미온느 그레인저', 50000)\n",
        "\n",
        "Account.get_account_num()"
      ],
      "metadata": {
        "colab": {
          "base_uri": "https://localhost:8080/"
        },
        "id": "5Mf75xMTQJpx",
        "outputId": "d59240fc-7fbd-4eb7-91ee-a587a08bca05"
      },
      "execution_count": 7,
      "outputs": [
        {
          "output_type": "stream",
          "name": "stdout",
          "text": [
            "생성된 계좌의 총 개수는 3개 입니다.\n"
          ]
        }
      ]
    },
    {
      "cell_type": "markdown",
      "source": [
        "### Q4. 입금 메서드\n",
        "Account 클래스에 입금을 위한 deposit 메서드 추가하기   \n",
        "입금은 최소 1원 이상만 가능"
      ],
      "metadata": {
        "id": "M5fDMSeYJLAL"
      }
    },
    {
      "cell_type": "code",
      "source": [
        "def deposit(self, money):\n",
        "    if money > 0:\n",
        "        self.balance += money\n",
        "    else:\n",
        "        print('입금은 최소 1원 이상만 가능 합니다.')\n",
        "\n",
        "Account.deposit = deposit"
      ],
      "metadata": {
        "id": "uhDk0FazJZ2R"
      },
      "execution_count": 8,
      "outputs": []
    },
    {
      "cell_type": "code",
      "source": [
        "print(harry.balance)\n",
        "harry.deposit(2000)\n",
        "print(harry.balance)"
      ],
      "metadata": {
        "colab": {
          "base_uri": "https://localhost:8080/"
        },
        "id": "p3pXlVd6Rj9I",
        "outputId": "8a066665-b1d9-4cc7-cba1-e7863e9c8fba"
      },
      "execution_count": 9,
      "outputs": [
        {
          "output_type": "stream",
          "name": "stdout",
          "text": [
            "4000000\n",
            "4002000\n"
          ]
        }
      ]
    },
    {
      "cell_type": "code",
      "source": [
        "print(ron.balance)\n",
        "ron.deposit(-200)\n",
        "print(ron.balance)"
      ],
      "metadata": {
        "colab": {
          "base_uri": "https://localhost:8080/"
        },
        "id": "zWSxp7BCR2Hh",
        "outputId": "4a436215-f46c-426a-e3bc-70caa8c4a791"
      },
      "execution_count": 10,
      "outputs": [
        {
          "output_type": "stream",
          "name": "stdout",
          "text": [
            "2000\n",
            "입금은 최소 1원 이상만 가능 합니다.\n",
            "2000\n"
          ]
        }
      ]
    },
    {
      "cell_type": "markdown",
      "source": [
        "### Q5. 출금 메서드\n",
        "Account 클래스에 출금을 위한 withdraw 메서드 추가하기  \n",
        "출금은 계좌의 잔고 이상으로 출금할 수 없음"
      ],
      "metadata": {
        "id": "2Hb1xc3WJZTZ"
      }
    },
    {
      "cell_type": "code",
      "source": [
        "def withdraw(self, money):\n",
        "    if money <= self.balance:\n",
        "        self.balance -= money\n",
        "    else:\n",
        "        print('계좌 잔고 이상으로 출금할 수 없음')\n",
        "\n",
        "Account.withdraw = withdraw"
      ],
      "metadata": {
        "id": "TtPSfNwxJiwZ"
      },
      "execution_count": 11,
      "outputs": []
    },
    {
      "cell_type": "code",
      "source": [
        "print(harry.balance)\n",
        "harry.withdraw(2000)\n",
        "print(harry.balance)"
      ],
      "metadata": {
        "colab": {
          "base_uri": "https://localhost:8080/"
        },
        "id": "pkBVQjtpSvQ4",
        "outputId": "47350161-f946-4ea2-bf7c-cf8983409cca"
      },
      "execution_count": 12,
      "outputs": [
        {
          "output_type": "stream",
          "name": "stdout",
          "text": [
            "4002000\n",
            "4000000\n"
          ]
        }
      ]
    },
    {
      "cell_type": "code",
      "source": [
        "print(ron.balance)\n",
        "ron.withdraw(4000)\n",
        "print(ron.balance)"
      ],
      "metadata": {
        "colab": {
          "base_uri": "https://localhost:8080/"
        },
        "id": "pjQNWRXLS38w",
        "outputId": "6380937f-10df-4a5b-b281-8fe48c59112e"
      },
      "execution_count": 13,
      "outputs": [
        {
          "output_type": "stream",
          "name": "stdout",
          "text": [
            "2000\n",
            "계좌 잔고 이상으로 출금할 수 없음\n",
            "2000\n"
          ]
        }
      ]
    },
    {
      "cell_type": "markdown",
      "source": [
        "### Q6. 정보 출력 메서드\n",
        "Account 인스턴스에 저장된 정보를 출력하는 display_info() 메서드 추가하기   \n",
        "잔고는 세자리마다 쉼표 출력하기  \n",
        "```python\n",
        "은행이름: SC은행\n",
        "예금주: 파이썬\n",
        "계좌번호: 111-11-111111\n",
        "잔고: 10,000원\n",
        "```"
      ],
      "metadata": {
        "id": "xA6THWszJjOR"
      }
    },
    {
      "cell_type": "code",
      "source": [
        "def display_info(self):\n",
        "    print(f'은행이름: {self.bank}')\n",
        "    print(f'예금주: {self.name}')\n",
        "    print(f'계좌번호: {self.account_number}')\n",
        "    print(f'잔고: {self.balance:,}')\n",
        "\n",
        "Account.display_info = display_info"
      ],
      "metadata": {
        "id": "kuDS99ITJ2tx"
      },
      "execution_count": 14,
      "outputs": []
    },
    {
      "cell_type": "code",
      "source": [
        "harry.display_info()"
      ],
      "metadata": {
        "colab": {
          "base_uri": "https://localhost:8080/"
        },
        "id": "_K5Eb9TwVyNv",
        "outputId": "7f35d875-1201-4cf5-f33b-b6dd8c2400f4"
      },
      "execution_count": 15,
      "outputs": [
        {
          "output_type": "stream",
          "name": "stdout",
          "text": [
            "은행이름: SC은행\n",
            "예금주: 해리 포터\n",
            "계좌번호: 782-85-152138\n",
            "잔고: 4,000,000\n"
          ]
        }
      ]
    },
    {
      "cell_type": "code",
      "source": [
        "ron.display_info()"
      ],
      "metadata": {
        "colab": {
          "base_uri": "https://localhost:8080/"
        },
        "id": "iq5HDfijV48x",
        "outputId": "06ec1ccb-a38b-4bd3-dc18-ad7519d9c3df"
      },
      "execution_count": 16,
      "outputs": [
        {
          "output_type": "stream",
          "name": "stdout",
          "text": [
            "은행이름: SC은행\n",
            "예금주: 론 위즐리\n",
            "계좌번호: 913-28-070700\n",
            "잔고: 2,000\n"
          ]
        }
      ]
    },
    {
      "cell_type": "markdown",
      "source": [
        "### Q7. 이자 지금하기\n",
        "입금 횟수가 5회가 될 때 잔고를 기준으로 1%의 이자가 잔고에 추가되도록 코드 변경하기"
      ],
      "metadata": {
        "id": "cfNAhekMJ3EB"
      }
    },
    {
      "cell_type": "code",
      "source": [
        "class Account():\n",
        "    # 클래스 변수\n",
        "    account_count = 0\n",
        "\n",
        "    def __init__(self, name, balance):\n",
        "        self.name = name            # 예금주\n",
        "        self.balance = balance      # 잔액\n",
        "        self.bank = 'SC은행'        # 은행이름\n",
        "        self.deposit_times = 0      # 입금 횟수\n",
        "\n",
        "        # 각 자리수에 맞게 무작위 번호 생성\n",
        "        num1 = random.randint(0,999)\n",
        "        num2 = random.randint(0, 99)\n",
        "        num3 = random.randint(0, 999999)\n",
        "        # 자리수 맞추기 위해 0 채워주기         num1 = 3 이면, num1 = 003 으로 저장하기\n",
        "        num1 = str(num1).zfill(3)\n",
        "        num2 = str(num2).zfill(2)\n",
        "        num3 = str(num3).zfill(6)\n",
        "\n",
        "        self.account_number = num1 + '-' + num2 + '-' + num3    # 계좌번호 \n",
        "\n",
        "        # 계좌번호가 생성될 때 클래스 변수 account_count에 1씩 더하기\n",
        "        Account.account_count += 1\n",
        "\n",
        "    # 클래스 변수에 접근하기 때문에 클래스 메서드 사용 \n",
        "    @classmethod\n",
        "    def get_account_num(cls):\n",
        "        print(f'생성된 계좌의 총 개수는 {cls.account_count}개 입니다.')\n",
        "    \n",
        "    # 입금 메서드\n",
        "    def deposit(self, money):\n",
        "        if money > 0:\n",
        "            self.balance += money\n",
        "            self.deposit_times += 1\n",
        "            if self.deposit_times % 5 == 0:             # 입금 횟수가 5의 배수일 때\n",
        "                self.balance += self.balance * 0.01     # 잔고의 1%를 더하기\n",
        "        else:\n",
        "            print('입금은 최소 1원 이상만 가능 합니다.')\n",
        "\n",
        "    # 출금 메서드\n",
        "    def withdraw(self, money):\n",
        "        if money <= self.balance:\n",
        "            self.balance -= money\n",
        "        else:\n",
        "            print('계좌 잔고 이상으로 출금할 수 없음')\n",
        "\n",
        "    # 정보 출력 메서드\n",
        "    def display_info(self):\n",
        "        print(f'은행이름: {self.bank}')\n",
        "        print(f'예금주: {self.name}')\n",
        "        print(f'계좌번호: {self.account_number}')\n",
        "        print(f'잔고: {self.balance:,}')"
      ],
      "metadata": {
        "id": "0uiZUnPQJ_Kw"
      },
      "execution_count": 17,
      "outputs": []
    },
    {
      "cell_type": "code",
      "source": [
        "harry = Account(\"해리 포터\", 4000000)\n",
        "harry.display_info()\n",
        "\n",
        "for i in range(5):\n",
        "    harry.deposit(2000)\n",
        "\n",
        "print(harry.balance)"
      ],
      "metadata": {
        "colab": {
          "base_uri": "https://localhost:8080/"
        },
        "id": "7OrTl8NRXJA3",
        "outputId": "9183d19d-8e4b-4316-a468-536966083a42"
      },
      "execution_count": 18,
      "outputs": [
        {
          "output_type": "stream",
          "name": "stdout",
          "text": [
            "은행이름: SC은행\n",
            "예금주: 해리 포터\n",
            "계좌번호: 582-47-509647\n",
            "잔고: 4,000,000\n",
            "4050100.0\n"
          ]
        }
      ]
    },
    {
      "cell_type": "markdown",
      "source": [
        "### Q8. 여러 객체 생성\n",
        "Account 클래스로부터 3개 이상 인스턴스를 생성하고 생성된 인스턴스를 리스트에 저장하기"
      ],
      "metadata": {
        "id": "svRKnKSuJ_dY"
      }
    },
    {
      "cell_type": "code",
      "source": [
        "harry = Account(\"해리 포터\", 4000000)\n",
        "ron = Account(\"론 위즐리\", 2000)\n",
        "hermione = Account(\"헤르미온느 그레인저\", 1500000)\n",
        "\n",
        "account_list = [harry, ron, hermione]\n",
        "account_list"
      ],
      "metadata": {
        "colab": {
          "base_uri": "https://localhost:8080/"
        },
        "id": "_v_L4sCcKFfg",
        "outputId": "c2d5aa80-e596-4529-c7a2-8c7f0893b4d9"
      },
      "execution_count": 23,
      "outputs": [
        {
          "output_type": "execute_result",
          "data": {
            "text/plain": [
              "[<__main__.Account at 0x7f0d28113ee0>,\n",
              " <__main__.Account at 0x7f0d28110c10>,\n",
              " <__main__.Account at 0x7f0d281125f0>]"
            ]
          },
          "metadata": {},
          "execution_count": 23
        }
      ]
    },
    {
      "cell_type": "markdown",
      "source": [
        "### Q9. 객체 순회\n",
        "반복문을 통해 리스트에 있는 객체를 순회하면서 잔고가 100만원 이상인 고객의 정보만 **출력하기**"
      ],
      "metadata": {
        "id": "XPceHahnKF5S"
      }
    },
    {
      "cell_type": "code",
      "source": [
        "for account in account_list:\n",
        "    if account.balance >= 1000000:\n",
        "        account.display_info()"
      ],
      "metadata": {
        "colab": {
          "base_uri": "https://localhost:8080/"
        },
        "id": "YXz9_D5xKNPh",
        "outputId": "836d59d5-a9c7-4655-92d5-e468c6bd861e"
      },
      "execution_count": 24,
      "outputs": [
        {
          "output_type": "stream",
          "name": "stdout",
          "text": [
            "은행이름: SC은행\n",
            "예금주: 해리 포터\n",
            "계좌번호: 485-00-824057\n",
            "잔고: 4,000,000\n",
            "은행이름: SC은행\n",
            "예금주: 헤르미온느 그레인저\n",
            "계좌번호: 429-32-124341\n",
            "잔고: 1,500,000\n"
          ]
        }
      ]
    },
    {
      "cell_type": "markdown",
      "source": [
        "### MainQuest Q10. 입출금 내역\n",
        "입금과 출금 내역이 기록되도록 코드를 업데이트하기  \n",
        "입금 내역과 출금 내역을 출력하는 deposit_history와 withdraw_history 메서드 추가하기"
      ],
      "metadata": {
        "id": "c2xJWZX3KN1J"
      }
    },
    {
      "cell_type": "code",
      "source": [
        "class Account():\n",
        "    # 클래스 변수\n",
        "    account_count = 0\n",
        "\n",
        "    def __init__(self, name, balance):\n",
        "        self.name = name            # 예금주\n",
        "        self.balance = balance      # 잔액\n",
        "        self.bank = 'SC은행'        # 은행이름\n",
        "\n",
        "        self.deposit_times = 0      # 입금 횟수\n",
        "        self.balance_log = []       # 입출금 내역 리스트\n",
        "\n",
        "        # 각 자리수에 맞게 무작위 번호 생성\n",
        "        num1 = random.randint(0,999)\n",
        "        num2 = random.randint(0, 99)\n",
        "        num3 = random.randint(0, 999999)\n",
        "        # 자리수 맞추기 위해 0 채워주기         num1 = 3 이면, num1 = 003 으로 저장하기\n",
        "        num1 = str(num1).zfill(3)\n",
        "        num2 = str(num2).zfill(2)\n",
        "        num3 = str(num3).zfill(6)\n",
        "\n",
        "        self.account_number = num1 + '-' + num2 + '-' + num3    # 계좌번호 \n",
        "\n",
        "        # 계좌가 생성될 때 클래스 변수 account_count에 1씩 더하기\n",
        "        Account.account_count += 1\n",
        "\n",
        "    # 클래스 변수에 접근하기 때문에 클래스 메서드 사용 \n",
        "    @classmethod\n",
        "    def get_account_num(cls):\n",
        "        print(f'생성된 계좌의 총 개수는 {cls.account_count}개 입니다.')\n",
        "    \n",
        "    # 입금 메서드\n",
        "    def deposit(self, money):\n",
        "        if money > 0:\n",
        "            self.balance += money\n",
        "            self.deposit_times += 1\n",
        "            temp = ['입금', money, self.balance]        # 입금할 때 입금, 금액, 잔액 정보 저장\n",
        "            self.balance_log.append(temp)\n",
        "            if self.deposit_times % 5 == 0:             # 입금 횟수가 5의 배수일 때\n",
        "                interest = int(self.balance * 0.01)     # 잔고의 1%인 이자 계산.  1원 미만은 버림\n",
        "                self.balance += interest                # 잔고에 이자 더하기\n",
        "                temp = ['이자', interest, self.balance]\n",
        "                self.balance_log.append(temp)           # 이자 입금 될 때 로그 저장\n",
        "        else:\n",
        "            print('입금은 최소 1원 이상만 가능 합니다.')\n",
        "\n",
        "    # 출금 메서드\n",
        "    def withdraw(self, money):\n",
        "        if money <= self.balance:\n",
        "            self.balance -= money\n",
        "            temp = ['출금', money, self.balance]        # 출금할 때 출금, 금액, 잔액 정보 저장\n",
        "            self.balance_log.append(temp)\n",
        "        else:\n",
        "            print('계좌 잔고 이상으로 출금할 수 없습니다.')\n",
        "\n",
        "    # 정보 출력 메서드\n",
        "    def display_info(self):\n",
        "        print(f'은행이름: {self.bank}')\n",
        "        print(f'예금주: {self.name}')\n",
        "        print(f'계좌번호: {self.account_number}')\n",
        "        print(f'잔고: {self.balance:,}')\n",
        "\n",
        "    # 입금 내역 출력 메서드\n",
        "    def deposit_history(self):\n",
        "        for log in self.balance_log:\n",
        "            if log[0] == '입금':\n",
        "                print(log)\n",
        "    \n",
        "    # 출금 내역 출력 메서드\n",
        "    def withdraw_history(self):\n",
        "        for log in self.balance_log:\n",
        "            if log[0] == '출금':\n",
        "                print(log)"
      ],
      "metadata": {
        "id": "CdrJwPu5ZJaf"
      },
      "execution_count": 25,
      "outputs": []
    },
    {
      "cell_type": "code",
      "source": [
        "harry = Account('해리 포터', 4000000)"
      ],
      "metadata": {
        "id": "sgDgfgd1dFb5"
      },
      "execution_count": 26,
      "outputs": []
    },
    {
      "cell_type": "code",
      "source": [
        "harry.deposit(2000)\n",
        "harry.deposit(35000)\n",
        "harry.deposit(7200)\n",
        "harry.withdraw(3000)\n",
        "harry.deposit(98000)\n",
        "harry.withdraw(25000)\n",
        "harry.deposit(5000)"
      ],
      "metadata": {
        "id": "dl7AgW96bv1e"
      },
      "execution_count": 27,
      "outputs": []
    },
    {
      "cell_type": "code",
      "source": [
        "harry.deposit_history()"
      ],
      "metadata": {
        "colab": {
          "base_uri": "https://localhost:8080/"
        },
        "id": "A9HniTS9fiFo",
        "outputId": "d5b01427-a582-4418-b1b5-2da7f3a8fb92"
      },
      "execution_count": 28,
      "outputs": [
        {
          "output_type": "stream",
          "name": "stdout",
          "text": [
            "['입금', 2000, 4002000]\n",
            "['입금', 35000, 4037000]\n",
            "['입금', 7200, 4044200]\n",
            "['입금', 98000, 4139200]\n",
            "['입금', 5000, 4119200]\n"
          ]
        }
      ]
    },
    {
      "cell_type": "code",
      "source": [
        "harry.withdraw_history()"
      ],
      "metadata": {
        "colab": {
          "base_uri": "https://localhost:8080/"
        },
        "id": "vb61-4i2fkEe",
        "outputId": "0f2eeb28-12e4-40a2-c0ae-5f3c7807cdc9"
      },
      "execution_count": 29,
      "outputs": [
        {
          "output_type": "stream",
          "name": "stdout",
          "text": [
            "['출금', 3000, 4041200]\n",
            "['출금', 25000, 4114200]\n"
          ]
        }
      ]
    },
    {
      "cell_type": "code",
      "source": [
        "harry.balance_log"
      ],
      "metadata": {
        "colab": {
          "base_uri": "https://localhost:8080/"
        },
        "id": "tUtBB0sJfmBn",
        "outputId": "5a486d62-01f4-4d40-c7b7-1b56987784dc"
      },
      "execution_count": 30,
      "outputs": [
        {
          "output_type": "execute_result",
          "data": {
            "text/plain": [
              "[['입금', 2000, 4002000],\n",
              " ['입금', 35000, 4037000],\n",
              " ['입금', 7200, 4044200],\n",
              " ['출금', 3000, 4041200],\n",
              " ['입금', 98000, 4139200],\n",
              " ['출금', 25000, 4114200],\n",
              " ['입금', 5000, 4119200],\n",
              " ['이자', 41192, 4160392]]"
            ]
          },
          "metadata": {},
          "execution_count": 30
        }
      ]
    }
  ]
}