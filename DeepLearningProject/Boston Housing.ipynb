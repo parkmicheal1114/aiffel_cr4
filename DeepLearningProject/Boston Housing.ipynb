{
 "cells": [
  {
   "cell_type": "markdown",
   "id": "ca2fc41b",
   "metadata": {},
   "source": [
    "# Boston 주택 가격 예측 모델\n",
    "* 보스턴 시의 주택 가격에 대한 데이터 셋\n",
    "* 주택의 여러 요건들과 가격 정보가 포함\n",
    "* 회귀 분석에 자주 사용되는 대표적인 데이터셋  \n",
    "\n",
    "* feature에 대한 설명\n",
    "CRIM: 자치시별 1인당 범죄율  \n",
    "ZN: 250,000 평방피트를 초과하는 거주 지역의 비율  \n",
    "INDUS: 비소매상업지역이 점유하고 있는 토지의 비율  \n",
    "CHAS: 찰스강에 대한 더미변수(강의 겨예에 위치한 경우는 1, 아니면 0)  \n",
    "NOX: 10ppm 당 농축 이산화질소  \n",
    "RM: 주택 1가구당 평균 방의 개수  \n",
    "AGE: 1940년 이전에 건축된 소유주택의 비율  \n",
    "DIS: 5개의 보스턴 직업센터까지의 접근성 지수  \n",
    "RAD: 방사형 도로까지의 접근성 지수  \n",
    "TAX: 10,000 달러당 재산세율  \n",
    "PTRATIO: 자치시별 학생/교사 비율  \n",
    "B: 100-(Bk-0.63)^2 (Bk는 자치시별 흑인의 비율)  \n",
    "LSTAT: 모집단의 하위계층의 비율  \n",
    "MEDV: 본인 소유의 주택가격(중앙값)(단위;$1,000)  "
   ]
  },
  {
   "cell_type": "markdown",
   "id": "c1e86eb6",
   "metadata": {},
   "source": [
    "## 데이터 로드 및 전처리"
   ]
  },
  {
   "cell_type": "code",
   "execution_count": 1,
   "id": "0663df32",
   "metadata": {},
   "outputs": [],
   "source": [
    "from tensorflow.keras import models, layers\n",
    "import matplotlib.pyplot as plt"
   ]
  },
  {
   "cell_type": "code",
   "execution_count": 2,
   "id": "7b8f5d00",
   "metadata": {},
   "outputs": [
    {
     "name": "stdout",
     "output_type": "stream",
     "text": [
      "404\n",
      "102\n"
     ]
    }
   ],
   "source": [
    "from keras.datasets import boston_housing\n",
    "\n",
    "(train_data, train_labels), (test_data, test_labels) = boston_housing.load_data()\n",
    "\n",
    "print(len(train_data))\n",
    "print(len(test_data))"
   ]
  },
  {
   "cell_type": "code",
   "execution_count": 3,
   "id": "6fc84bf4",
   "metadata": {},
   "outputs": [],
   "source": [
    "# 표준화\n",
    "mean = train_data.mean(axis=0)\n",
    "train_data = train_data - mean\n",
    "\n",
    "std = train_data.std(axis=0)\n",
    "train_data = train_data /std\n",
    "\n",
    "test_data = test_data - mean\n",
    "test_data = test_data / std"
   ]
  },
  {
   "cell_type": "code",
   "execution_count": 11,
   "id": "2297302b",
   "metadata": {},
   "outputs": [
    {
     "name": "stdout",
     "output_type": "stream",
     "text": [
      "(323, 13)\n",
      "(81, 13)\n",
      "(323,)\n",
      "(81,)\n"
     ]
    }
   ],
   "source": [
    "from sklearn.model_selection import train_test_split\n",
    "\n",
    "x_train, x_val, y_train, y_val = train_test_split(train_data, train_labels,\n",
    "                                                     test_size=0.2)\n",
    "print(x_train.shape)\n",
    "print(x_val.shape)\n",
    "print(y_train.shape)\n",
    "print(y_val.shape)"
   ]
  },
  {
   "cell_type": "markdown",
   "id": "f937f332",
   "metadata": {},
   "source": [
    "## 모델 구성 및 컴파일"
   ]
  },
  {
   "cell_type": "code",
   "execution_count": 14,
   "id": "321e17e8",
   "metadata": {},
   "outputs": [],
   "source": [
    "model = models.Sequential()\n",
    "model.add(layers.Input(shape=(train_data.shape[1], )))\n",
    "model.add(layers.Dense(64, activation='sigmoid'))\n",
    "model.add(layers.Dense(64, activation='sigmoid'))\n",
    "model.add(layers.Dense(1, activation='linear'))\n",
    "\n",
    "model.compile(loss='mse',\n",
    "             optimizer = 'Adam',\n",
    "             metrics = ['mae'])"
   ]
  },
  {
   "cell_type": "markdown",
   "id": "fea84759",
   "metadata": {},
   "source": [
    "## 모델 학습"
   ]
  },
  {
   "cell_type": "code",
   "execution_count": 15,
   "id": "b26948e7",
   "metadata": {},
   "outputs": [
    {
     "name": "stdout",
     "output_type": "stream",
     "text": [
      "Epoch 1/60\n",
      "17/17 [==============================] - 0s 9ms/step - loss: 509.8752 - mae: 20.6049 - val_loss: 520.9720 - val_mae: 20.9385\n",
      "Epoch 2/60\n",
      "17/17 [==============================] - 0s 4ms/step - loss: 443.3718 - mae: 18.9447 - val_loss: 457.4385 - val_mae: 19.3730\n",
      "Epoch 3/60\n",
      "17/17 [==============================] - 0s 3ms/step - loss: 388.9585 - mae: 17.4863 - val_loss: 407.1126 - val_mae: 18.0425\n",
      "Epoch 4/60\n",
      "17/17 [==============================] - 0s 4ms/step - loss: 346.3840 - mae: 16.2539 - val_loss: 367.1597 - val_mae: 16.9140\n",
      "Epoch 5/60\n",
      "17/17 [==============================] - 0s 3ms/step - loss: 312.8434 - mae: 15.2245 - val_loss: 335.0027 - val_mae: 15.9466\n",
      "Epoch 6/60\n",
      "17/17 [==============================] - 0s 3ms/step - loss: 285.3323 - mae: 14.3155 - val_loss: 307.5312 - val_mae: 15.0677\n",
      "Epoch 7/60\n",
      "17/17 [==============================] - 0s 3ms/step - loss: 262.1306 - mae: 13.5133 - val_loss: 284.1333 - val_mae: 14.2716\n",
      "Epoch 8/60\n",
      "17/17 [==============================] - 0s 3ms/step - loss: 242.0793 - mae: 12.7965 - val_loss: 263.8461 - val_mae: 13.5545\n",
      "Epoch 9/60\n",
      "17/17 [==============================] - 0s 3ms/step - loss: 224.4026 - mae: 12.1505 - val_loss: 245.9902 - val_mae: 12.8954\n",
      "Epoch 10/60\n",
      "17/17 [==============================] - 0s 3ms/step - loss: 209.0947 - mae: 11.5288 - val_loss: 229.3031 - val_mae: 12.2479\n",
      "Epoch 11/60\n",
      "17/17 [==============================] - 0s 3ms/step - loss: 195.0870 - mae: 10.9647 - val_loss: 214.6617 - val_mae: 11.6864\n",
      "Epoch 12/60\n",
      "17/17 [==============================] - 0s 3ms/step - loss: 182.6557 - mae: 10.4438 - val_loss: 201.4206 - val_mae: 11.1575\n",
      "Epoch 13/60\n",
      "17/17 [==============================] - 0s 3ms/step - loss: 171.1118 - mae: 9.9535 - val_loss: 188.6314 - val_mae: 10.6188\n",
      "Epoch 14/60\n",
      "17/17 [==============================] - 0s 3ms/step - loss: 160.2587 - mae: 9.4813 - val_loss: 177.1156 - val_mae: 10.1085\n",
      "Epoch 15/60\n",
      "17/17 [==============================] - 0s 3ms/step - loss: 150.5711 - mae: 9.0663 - val_loss: 166.7793 - val_mae: 9.6486\n",
      "Epoch 16/60\n",
      "17/17 [==============================] - 0s 3ms/step - loss: 142.0700 - mae: 8.6846 - val_loss: 157.5702 - val_mae: 9.2162\n",
      "Epoch 17/60\n",
      "17/17 [==============================] - 0s 3ms/step - loss: 134.3854 - mae: 8.3591 - val_loss: 148.9233 - val_mae: 8.7875\n",
      "Epoch 18/60\n",
      "17/17 [==============================] - 0s 3ms/step - loss: 127.2690 - mae: 8.0554 - val_loss: 141.3877 - val_mae: 8.4093\n",
      "Epoch 19/60\n",
      "17/17 [==============================] - 0s 3ms/step - loss: 120.8726 - mae: 7.7779 - val_loss: 134.4937 - val_mae: 8.0834\n",
      "Epoch 20/60\n",
      "17/17 [==============================] - 0s 3ms/step - loss: 115.1774 - mae: 7.5166 - val_loss: 128.1673 - val_mae: 7.7868\n",
      "Epoch 21/60\n",
      "17/17 [==============================] - 0s 3ms/step - loss: 109.9631 - mae: 7.2811 - val_loss: 122.6771 - val_mae: 7.5237\n",
      "Epoch 22/60\n",
      "17/17 [==============================] - 0s 3ms/step - loss: 105.2659 - mae: 7.0436 - val_loss: 117.5704 - val_mae: 7.2657\n",
      "Epoch 23/60\n",
      "17/17 [==============================] - 0s 3ms/step - loss: 100.8168 - mae: 6.8092 - val_loss: 112.8873 - val_mae: 7.0173\n",
      "Epoch 24/60\n",
      "17/17 [==============================] - 0s 3ms/step - loss: 96.6065 - mae: 6.5998 - val_loss: 108.7402 - val_mae: 6.7878\n",
      "Epoch 25/60\n",
      "17/17 [==============================] - 0s 3ms/step - loss: 92.8780 - mae: 6.3963 - val_loss: 104.6539 - val_mae: 6.5508\n",
      "Epoch 26/60\n",
      "17/17 [==============================] - 0s 4ms/step - loss: 89.0718 - mae: 6.2039 - val_loss: 101.0497 - val_mae: 6.3382\n",
      "Epoch 27/60\n",
      "17/17 [==============================] - 0s 3ms/step - loss: 85.7249 - mae: 6.0336 - val_loss: 97.2324 - val_mae: 6.1010\n",
      "Epoch 28/60\n",
      "17/17 [==============================] - 0s 3ms/step - loss: 82.5038 - mae: 5.8616 - val_loss: 94.1957 - val_mae: 5.9197\n",
      "Epoch 29/60\n",
      "17/17 [==============================] - 0s 3ms/step - loss: 79.6522 - mae: 5.7242 - val_loss: 91.5599 - val_mae: 5.7709\n",
      "Epoch 30/60\n",
      "17/17 [==============================] - 0s 3ms/step - loss: 77.2748 - mae: 5.6234 - val_loss: 89.0234 - val_mae: 5.6317\n",
      "Epoch 31/60\n",
      "17/17 [==============================] - 0s 3ms/step - loss: 74.9732 - mae: 5.5221 - val_loss: 86.9154 - val_mae: 5.5255\n",
      "Epoch 32/60\n",
      "17/17 [==============================] - 0s 3ms/step - loss: 72.8603 - mae: 5.4420 - val_loss: 84.7011 - val_mae: 5.4328\n",
      "Epoch 33/60\n",
      "17/17 [==============================] - 0s 3ms/step - loss: 70.9406 - mae: 5.3657 - val_loss: 82.8642 - val_mae: 5.3527\n",
      "Epoch 34/60\n",
      "17/17 [==============================] - 0s 3ms/step - loss: 69.3095 - mae: 5.2949 - val_loss: 81.2024 - val_mae: 5.2755\n",
      "Epoch 35/60\n",
      "17/17 [==============================] - 0s 3ms/step - loss: 67.6512 - mae: 5.2349 - val_loss: 79.8102 - val_mae: 5.2119\n",
      "Epoch 36/60\n",
      "17/17 [==============================] - 0s 3ms/step - loss: 66.2405 - mae: 5.1893 - val_loss: 78.2003 - val_mae: 5.1427\n",
      "Epoch 37/60\n",
      "17/17 [==============================] - 0s 3ms/step - loss: 64.8815 - mae: 5.1439 - val_loss: 76.8100 - val_mae: 5.0941\n",
      "Epoch 38/60\n",
      "17/17 [==============================] - 0s 3ms/step - loss: 63.5372 - mae: 5.1013 - val_loss: 75.6568 - val_mae: 5.0539\n",
      "Epoch 39/60\n",
      "17/17 [==============================] - 0s 3ms/step - loss: 62.4046 - mae: 5.0611 - val_loss: 74.7531 - val_mae: 5.0168\n",
      "Epoch 40/60\n",
      "17/17 [==============================] - 0s 3ms/step - loss: 61.3628 - mae: 5.0282 - val_loss: 74.0854 - val_mae: 4.9913\n",
      "Epoch 41/60\n",
      "17/17 [==============================] - 0s 3ms/step - loss: 60.4390 - mae: 5.0003 - val_loss: 73.2535 - val_mae: 4.9650\n",
      "Epoch 42/60\n",
      "17/17 [==============================] - 0s 3ms/step - loss: 59.4677 - mae: 4.9697 - val_loss: 72.4207 - val_mae: 4.9421\n",
      "Epoch 43/60\n",
      "17/17 [==============================] - 0s 3ms/step - loss: 58.7175 - mae: 4.9585 - val_loss: 71.6332 - val_mae: 4.9279\n",
      "Epoch 44/60\n",
      "17/17 [==============================] - 0s 3ms/step - loss: 57.9798 - mae: 4.9350 - val_loss: 71.1628 - val_mae: 4.9131\n",
      "Epoch 45/60\n",
      "17/17 [==============================] - 0s 3ms/step - loss: 57.2266 - mae: 4.9189 - val_loss: 70.3756 - val_mae: 4.9018\n",
      "Epoch 46/60\n",
      "17/17 [==============================] - 0s 3ms/step - loss: 56.5051 - mae: 4.9064 - val_loss: 69.6686 - val_mae: 4.8889\n",
      "Epoch 47/60\n",
      "17/17 [==============================] - 0s 3ms/step - loss: 55.8561 - mae: 4.8900 - val_loss: 69.1852 - val_mae: 4.8818\n",
      "Epoch 48/60\n",
      "17/17 [==============================] - 0s 3ms/step - loss: 55.2548 - mae: 4.8814 - val_loss: 68.5634 - val_mae: 4.8798\n",
      "Epoch 49/60\n",
      "17/17 [==============================] - 0s 3ms/step - loss: 54.6573 - mae: 4.8778 - val_loss: 67.8126 - val_mae: 4.8647\n",
      "Epoch 50/60\n",
      "17/17 [==============================] - 0s 3ms/step - loss: 54.0854 - mae: 4.8599 - val_loss: 67.2543 - val_mae: 4.8467\n",
      "Epoch 51/60\n",
      "17/17 [==============================] - 0s 3ms/step - loss: 53.5601 - mae: 4.8223 - val_loss: 66.8391 - val_mae: 4.8072\n",
      "Epoch 52/60\n",
      "17/17 [==============================] - 0s 3ms/step - loss: 53.0709 - mae: 4.7865 - val_loss: 66.3478 - val_mae: 4.7779\n",
      "Epoch 53/60\n",
      "17/17 [==============================] - 0s 4ms/step - loss: 52.5542 - mae: 4.7887 - val_loss: 65.5642 - val_mae: 4.7756\n",
      "Epoch 54/60\n",
      "17/17 [==============================] - 0s 3ms/step - loss: 51.9775 - mae: 4.7698 - val_loss: 64.9959 - val_mae: 4.7554\n",
      "Epoch 55/60\n",
      "17/17 [==============================] - 0s 3ms/step - loss: 51.4945 - mae: 4.7650 - val_loss: 64.3006 - val_mae: 4.7459\n",
      "Epoch 56/60\n",
      "17/17 [==============================] - 0s 3ms/step - loss: 50.9089 - mae: 4.7296 - val_loss: 63.8124 - val_mae: 4.7137\n",
      "Epoch 57/60\n",
      "17/17 [==============================] - 0s 3ms/step - loss: 50.4330 - mae: 4.6948 - val_loss: 63.3362 - val_mae: 4.6808\n",
      "Epoch 58/60\n",
      "17/17 [==============================] - 0s 3ms/step - loss: 50.0392 - mae: 4.6573 - val_loss: 62.7536 - val_mae: 4.6574\n",
      "Epoch 59/60\n",
      "17/17 [==============================] - 0s 3ms/step - loss: 49.4865 - mae: 4.6501 - val_loss: 61.9733 - val_mae: 4.6571\n",
      "Epoch 60/60\n",
      "17/17 [==============================] - 0s 3ms/step - loss: 49.0182 - mae: 4.6625 - val_loss: 61.1329 - val_mae: 4.6588\n"
     ]
    }
   ],
   "source": [
    "history = model.fit(x_train, y_train,\n",
    "                   epochs=60,\n",
    "                   batch_size=20,\n",
    "                   validation_data=(x_val, y_val))"
   ]
  },
  {
   "cell_type": "code",
   "execution_count": 16,
   "id": "3756b6da",
   "metadata": {},
   "outputs": [
    {
     "data": {
      "image/png": "[encoded data removed]",
      "text/plain": [
       "<Figure size 864x360 with 2 Axes>"
      ]
     },
     "metadata": {},
     "output_type": "display_data"
    }
   ],
   "source": [
    "plt.style.use('seaborn-white')\n",
    "\n",
    "history_dict = history.history\n",
    "\n",
    "loss = history_dict['loss']\n",
    "val_loss = history_dict['val_loss']\n",
    "\n",
    "epochs = range(1, len(loss) + 1)\n",
    "fig = plt.figure(figsize=(12, 5))\n",
    "\n",
    "ax1 = fig.add_subplot(1, 2, 1)\n",
    "ax1.plot(epochs, loss, 'b-', label='train_loss')\n",
    "ax1.plot(epochs, val_loss, 'r-', label='val_loss')\n",
    "ax1.set_title('Train and Validation Loss')\n",
    "ax1.set_xlabel('Epochs')\n",
    "ax1.set_ylabel('Loss')\n",
    "ax1.grid()\n",
    "ax1.legend()\n",
    "\n",
    "mae = history_dict['mae']\n",
    "val_mae = history_dict['val_mae']\n",
    "\n",
    "ax2 = fig.add_subplot(1, 2, 2)\n",
    "ax2.plot(epochs, mae, 'b-', label='train_mae')\n",
    "ax2.plot(epochs, val_mae, 'r-', label='val_mae')\n",
    "ax2.set_title('Train and Validation MAE')\n",
    "ax2.set_xlabel('Epochs')\n",
    "ax2.set_ylabel('Accuracy')\n",
    "ax2.grid()\n",
    "ax2.legend()\n",
    "\n",
    "plt.show()"
   ]
  },
  {
   "cell_type": "markdown",
   "id": "5d64770c",
   "metadata": {},
   "source": [
    "## 모델 평가 및 예측"
   ]
  },
  {
   "cell_type": "code",
   "execution_count": 17,
   "id": "3a373942",
   "metadata": {},
   "outputs": [
    {
     "name": "stdout",
     "output_type": "stream",
     "text": [
      "4/4 [==============================] - 0s 2ms/step - loss: 48.4921 - mae: 4.7587\n"
     ]
    },
    {
     "data": {
      "text/plain": [
       "[48.49205017089844, 4.758650779724121]"
      ]
     },
     "execution_count": 17,
     "metadata": {},
     "output_type": "execute_result"
    }
   ],
   "source": [
    "model.evaluate(test_data, test_labels)"
   ]
  },
  {
   "cell_type": "code",
   "execution_count": null,
   "id": "a1150995",
   "metadata": {},
   "outputs": [],
   "source": []
  }
 ],
 "metadata": {
  "kernelspec": {
   "display_name": "Python 3 (ipykernel)",
   "language": "python",
   "name": "python3"
  },
  "language_info": {
   "codemirror_mode": {
    "name": "ipython",
    "version": 3
   },
   "file_extension": ".py",
   "mimetype": "text/x-python",
   "name": "python",
   "nbconvert_exporter": "python",
   "pygments_lexer": "ipython3",
   "version": "3.9.7"
  }
 },
 "nbformat": 4,
 "nbformat_minor": 5
}
