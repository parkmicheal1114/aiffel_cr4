{
 "cells": [
  {
   "cell_type": "markdown",
   "id": "4faba474",
   "metadata": {},
   "source": [
    "# Reuters 딥러닝 모델\n",
    "* 로이터 뉴스 기사 데이터 셋\n",
    "* 8982개의 훈련 데이터셋과 2246개의 테스트 데이터셋으로 구분\n",
    "* 뉴스 기사의 주제로 46개의 레이블"
   ]
  },
  {
   "cell_type": "markdown",
   "id": "090f65a7",
   "metadata": {},
   "source": [
    "## 데이터 로드 및 전처리"
   ]
  },
  {
   "cell_type": "code",
   "execution_count": 1,
   "id": "374a0206",
   "metadata": {},
   "outputs": [],
   "source": [
    "import numpy as np\n",
    "import matplotlib.pyplot as plt\n",
    "from sklearn.model_selection import train_test_split\n",
    "\n",
    "from tensorflow.keras import models, layers\n",
    "from tensorflow.keras import callbacks\n",
    "from tensorflow.keras import utils\n",
    "from keras.datasets import reuters"
   ]
  },
  {
   "cell_type": "code",
   "execution_count": 2,
   "id": "74ad328c",
   "metadata": {},
   "outputs": [
    {
     "name": "stdout",
     "output_type": "stream",
     "text": [
      "Downloading data from https://storage.googleapis.com/tensorflow/tf-keras-datasets/reuters.npz\n",
      "2113536/2110848 [==============================] - 0s 0us/step\n",
      "2121728/2110848 [==============================] - 0s 0us/step\n",
      "6736\n",
      "2246\n",
      "2246\n",
      "46\n"
     ]
    }
   ],
   "source": [
    "(train_data, train_labels), (test_data, test_labels) = reuters.load_data(num_words=10000)\n",
    "\n",
    "train_data, val_data, train_labels, val_lables = train_test_split(train_data, train_labels,\n",
    "                                                 test_size=0.25)\n",
    "\n",
    "print(len(train_data))\n",
    "print(len(val_data))\n",
    "print(len(test_data))\n",
    "print(len(set(train_labels)))"
   ]
  },
  {
   "cell_type": "code",
   "execution_count": 3,
   "id": "910fe48b",
   "metadata": {},
   "outputs": [],
   "source": [
    "# 원핫인코딩 수행\n",
    "def one_hot_encoding(data, dim=10000):\n",
    "    result = np.zeros((len(data), dim))\n",
    "    for i, d in enumerate(data):\n",
    "      result[i, d] = 1.\n",
    "    return result\n",
    "\n",
    "x_train = one_hot_encoding(train_data)\n",
    "x_val = one_hot_encoding(val_data)\n",
    "x_test = one_hot_encoding(test_data)\n"
   ]
  },
  {
   "cell_type": "code",
   "execution_count": 4,
   "id": "c05ebaa1",
   "metadata": {},
   "outputs": [],
   "source": [
    "# 레이블 데이터들은 범주형 형태로 to_categorical() 함수를 사용해 변환합니다.\n",
    "y_train = utils.to_categorical(train_labels)\n",
    "y_val = utils.to_categorical(val_lables)\n",
    "y_test = utils.to_categorical(test_labels)"
   ]
  },
  {
   "cell_type": "markdown",
   "id": "1e5d8f04",
   "metadata": {},
   "source": [
    "## 모델 구성 및 컴파일"
   ]
  },
  {
   "cell_type": "code",
   "execution_count": 5,
   "id": "54f96c92",
   "metadata": {},
   "outputs": [
    {
     "data": {
      "text/plain": [
       "((6736, 10000), (2246, 10000), (6736, 46), (2246, 46))"
      ]
     },
     "execution_count": 5,
     "metadata": {},
     "output_type": "execute_result"
    }
   ],
   "source": [
    "x_train.shape, x_val.shape, y_train.shape, y_val.shape"
   ]
  },
  {
   "cell_type": "code",
   "execution_count": 8,
   "id": "6ba141f8",
   "metadata": {},
   "outputs": [],
   "source": [
    "model = models.Sequential()\n",
    "model.add(layers.Input(shape=(10000, )))\n",
    "model.add(layers.Dense(128))\n",
    "model.add(layers.BatchNormalization())\n",
    "model.add(layers.Activation('relu'))\n",
    "model.add(layers.Dropout(0.3))\n",
    "model.add(layers.Dense(128))\n",
    "model.add(layers.BatchNormalization())\n",
    "model.add(layers.Activation('relu'))\n",
    "model.add(layers.Dropout(0.3))\n",
    "model.add(layers.Dense(46, activation='softmax'))\n",
    "\n",
    "model.compile(optimizer='Adam',\n",
    "             loss='categorical_crossentropy',\n",
    "             metrics = ['accuracy'])"
   ]
  },
  {
   "cell_type": "code",
   "execution_count": 9,
   "id": "9694ca23",
   "metadata": {},
   "outputs": [
    {
     "name": "stdout",
     "output_type": "stream",
     "text": [
      "Model: \"sequential_2\"\n",
      "_________________________________________________________________\n",
      "Layer (type)                 Output Shape              Param #   \n",
      "=================================================================\n",
      "dense_3 (Dense)              (None, 128)               1280128   \n",
      "_________________________________________________________________\n",
      "batch_normalization_1 (Batch (None, 128)               512       \n",
      "_________________________________________________________________\n",
      "activation_1 (Activation)    (None, 128)               0         \n",
      "_________________________________________________________________\n",
      "dropout_1 (Dropout)          (None, 128)               0         \n",
      "_________________________________________________________________\n",
      "dense_4 (Dense)              (None, 128)               16512     \n",
      "_________________________________________________________________\n",
      "batch_normalization_2 (Batch (None, 128)               512       \n",
      "_________________________________________________________________\n",
      "activation_2 (Activation)    (None, 128)               0         \n",
      "_________________________________________________________________\n",
      "dropout_2 (Dropout)          (None, 128)               0         \n",
      "_________________________________________________________________\n",
      "dense_5 (Dense)              (None, 46)                5934      \n",
      "=================================================================\n",
      "Total params: 1,303,598\n",
      "Trainable params: 1,303,086\n",
      "Non-trainable params: 512\n",
      "_________________________________________________________________\n"
     ]
    }
   ],
   "source": [
    "model.summary()"
   ]
  },
  {
   "cell_type": "markdown",
   "id": "af46f08b",
   "metadata": {},
   "source": [
    "## 모델 학습"
   ]
  },
  {
   "cell_type": "code",
   "execution_count": 10,
   "id": "14f95f43",
   "metadata": {},
   "outputs": [
    {
     "name": "stdout",
     "output_type": "stream",
     "text": [
      "Epoch 1/60\n",
      "211/211 [==============================] - 3s 7ms/step - loss: 1.6483 - accuracy: 0.6302 - val_loss: 1.3579 - val_accuracy: 0.7605\n",
      "Epoch 2/60\n",
      "211/211 [==============================] - 1s 4ms/step - loss: 0.8469 - accuracy: 0.7959 - val_loss: 0.9422 - val_accuracy: 0.8014\n",
      "Epoch 3/60\n",
      "211/211 [==============================] - 1s 5ms/step - loss: 0.5552 - accuracy: 0.8673 - val_loss: 0.8770 - val_accuracy: 0.8143\n",
      "Epoch 4/60\n",
      "211/211 [==============================] - 1s 5ms/step - loss: 0.4053 - accuracy: 0.9056 - val_loss: 0.8427 - val_accuracy: 0.8241\n",
      "Epoch 5/60\n",
      "211/211 [==============================] - 1s 5ms/step - loss: 0.3241 - accuracy: 0.9219 - val_loss: 0.8599 - val_accuracy: 0.8259\n",
      "Epoch 6/60\n",
      "211/211 [==============================] - 1s 5ms/step - loss: 0.2529 - accuracy: 0.9393 - val_loss: 0.8897 - val_accuracy: 0.8250\n",
      "Epoch 7/60\n",
      "211/211 [==============================] - 1s 5ms/step - loss: 0.2195 - accuracy: 0.9467 - val_loss: 0.9174 - val_accuracy: 0.8232\n",
      "Epoch 8/60\n",
      "211/211 [==============================] - 1s 4ms/step - loss: 0.2076 - accuracy: 0.9477 - val_loss: 0.9455 - val_accuracy: 0.8210\n",
      "Epoch 9/60\n",
      "211/211 [==============================] - 1s 5ms/step - loss: 0.2017 - accuracy: 0.9512 - val_loss: 0.9336 - val_accuracy: 0.8232\n",
      "Epoch 10/60\n",
      "211/211 [==============================] - 1s 5ms/step - loss: 0.1807 - accuracy: 0.9513 - val_loss: 0.9442 - val_accuracy: 0.8224\n",
      "Epoch 11/60\n",
      "211/211 [==============================] - 1s 5ms/step - loss: 0.1761 - accuracy: 0.9547 - val_loss: 0.9643 - val_accuracy: 0.8268\n",
      "Epoch 12/60\n",
      "211/211 [==============================] - 1s 4ms/step - loss: 0.1543 - accuracy: 0.9562 - val_loss: 1.0019 - val_accuracy: 0.8228\n",
      "Epoch 13/60\n",
      "211/211 [==============================] - 1s 5ms/step - loss: 0.1653 - accuracy: 0.9546 - val_loss: 1.0013 - val_accuracy: 0.8224\n",
      "Epoch 14/60\n",
      "211/211 [==============================] - 1s 4ms/step - loss: 0.1644 - accuracy: 0.9549 - val_loss: 0.9709 - val_accuracy: 0.8241\n"
     ]
    }
   ],
   "source": [
    "check_point_cb = callbacks.ModelCheckpoint('Reuters_model.h5', save_best_only=True)\n",
    "early_stopping_cb = callbacks.EarlyStopping(patience=10, monitor='val_loss', restore_best_weights=True)\n",
    "\n",
    "history = model.fit(x_train, y_train, epochs=60, \n",
    "                    validation_data=(x_val, y_val), \n",
    "                    callbacks=[check_point_cb, early_stopping_cb])"
   ]
  },
  {
   "cell_type": "code",
   "execution_count": 11,
   "id": "cbca9230",
   "metadata": {},
   "outputs": [
    {
     "data": {
      "image/png": "[encoded data removed]",
      "text/plain": [
       "<Figure size 864x360 with 2 Axes>"
      ]
     },
     "metadata": {},
     "output_type": "display_data"
    }
   ],
   "source": [
    "plt.style.use('seaborn-white')\n",
    "\n",
    "history_dict = history.history\n",
    "\n",
    "loss = history_dict['loss']\n",
    "val_loss = history_dict['val_loss']\n",
    "\n",
    "epochs = range(1, len(loss) + 1)\n",
    "fig = plt.figure(figsize=(12, 5))\n",
    "\n",
    "ax1 = fig.add_subplot(1, 2, 1)\n",
    "ax1.plot(epochs, loss, 'b-', label='train_loss')\n",
    "ax1.plot(epochs, val_loss, 'r-', label='val_loss')\n",
    "ax1.set_title('Train and Validation Loss')\n",
    "ax1.set_xlabel('Epochs')\n",
    "ax1.set_ylabel('Loss')\n",
    "ax1.grid()\n",
    "ax1.legend()\n",
    "\n",
    "accuracy = history_dict['accuracy']\n",
    "val_accuracy = history_dict['val_accuracy']\n",
    "\n",
    "ax2 = fig.add_subplot(1, 2, 2)\n",
    "ax2.plot(epochs, accuracy, 'b-', label='train_accuracy')\n",
    "ax2.plot(epochs, val_accuracy, 'r-', label='val_accuracy')\n",
    "ax2.set_title('Train and Validation Accuracy')\n",
    "ax2.set_xlabel('Epochs')\n",
    "ax2.set_ylabel('Accuracy')\n",
    "ax2.grid()\n",
    "ax2.legend()\n",
    "\n",
    "plt.show()"
   ]
  },
  {
   "cell_type": "markdown",
   "id": "483f2605",
   "metadata": {},
   "source": [
    "## 모델 평가 및 예측"
   ]
  },
  {
   "cell_type": "code",
   "execution_count": 12,
   "id": "6bd65a7e",
   "metadata": {},
   "outputs": [
    {
     "name": "stdout",
     "output_type": "stream",
     "text": [
      "71/71 [==============================] - 0s 2ms/step - loss: 0.9297 - accuracy: 0.8028\n"
     ]
    },
    {
     "data": {
      "text/plain": [
       "[0.9297212958335876, 0.8027604818344116]"
      ]
     },
     "execution_count": 12,
     "metadata": {},
     "output_type": "execute_result"
    }
   ],
   "source": [
    "model.evaluate(x_test, y_test)"
   ]
  },
  {
   "cell_type": "code",
   "execution_count": null,
   "id": "5cd1687d",
   "metadata": {},
   "outputs": [],
   "source": []
  }
 ],
 "metadata": {
  "kernelspec": {
   "display_name": "Python 3 (ipykernel)",
   "language": "python",
   "name": "python3"
  },
  "language_info": {
   "codemirror_mode": {
    "name": "ipython",
    "version": 3
   },
   "file_extension": ".py",
   "mimetype": "text/x-python",
   "name": "python",
   "nbconvert_exporter": "python",
   "pygments_lexer": "ipython3",
   "version": "3.9.7"
  }
 },
 "nbformat": 4,
 "nbformat_minor": 5
}
